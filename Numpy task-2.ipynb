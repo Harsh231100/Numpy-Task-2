{
 "cells": [
  {
   "cell_type": "code",
   "execution_count": 27,
   "id": "874b7852",
   "metadata": {},
   "outputs": [],
   "source": [
    "import numpy as np"
   ]
  },
  {
   "cell_type": "code",
   "execution_count": 28,
   "id": "5da5f1d7",
   "metadata": {},
   "outputs": [],
   "source": [
    "fpath =r'C:\\Users\\user\\Desktop\\tipsf.csv'"
   ]
  },
  {
   "cell_type": "code",
   "execution_count": 29,
   "id": "d7fbff4b",
   "metadata": {},
   "outputs": [
    {
     "name": "stdout",
     "output_type": "stream",
     "text": [
      "[[  0.    16.99   1.01 ...   1.     0.     2.  ]\n",
      " [  1.    10.34   1.66 ...   1.     0.     3.  ]\n",
      " [  2.    21.01   3.5  ...   1.     0.     3.  ]\n",
      " ...\n",
      " [241.    22.67   2.   ...   0.     0.     2.  ]\n",
      " [242.    17.82   1.75 ...   0.     0.     2.  ]\n",
      " [243.    18.78   3.   ...   2.     0.     2.  ]]\n"
     ]
    }
   ],
   "source": [
    "x= np.genfromtxt(fpath,delimiter =',', skip_header=1)\n",
    "print(x)"
   ]
  },
  {
   "cell_type": "markdown",
   "id": "ca4d8672",
   "metadata": {},
   "source": [
    "## 1. What is the total bill value"
   ]
  },
  {
   "cell_type": "code",
   "execution_count": 36,
   "id": "d3f8cd8e",
   "metadata": {},
   "outputs": [
    {
     "name": "stdout",
     "output_type": "stream",
     "text": [
      "Total Bill Value:  4827.77\n"
     ]
    }
   ],
   "source": [
    "total_bill = np.sum(x[:,1])\n",
    "\n",
    "print('Total Bill Value: ',total_bill)"
   ]
  },
  {
   "cell_type": "markdown",
   "id": "3d7ef78b",
   "metadata": {},
   "source": [
    "## 2. What is the total tip value"
   ]
  },
  {
   "cell_type": "code",
   "execution_count": 37,
   "id": "9913da35",
   "metadata": {},
   "outputs": [
    {
     "name": "stdout",
     "output_type": "stream",
     "text": [
      "Total Tip Value:  731.5799999999999\n"
     ]
    }
   ],
   "source": [
    "total_tip = np.sum(x[:,2])\n",
    "\n",
    "print('Total Tip Value: ',total_tip)"
   ]
  },
  {
   "cell_type": "markdown",
   "id": "77df73a8",
   "metadata": {},
   "source": [
    "## 3. Count how many Sunday,Saturday,Thursday,Friday are there"
   ]
  },
  {
   "cell_type": "code",
   "execution_count": 38,
   "id": "2175e1d4",
   "metadata": {},
   "outputs": [
    {
     "name": "stdout",
     "output_type": "stream",
     "text": [
      "Sunday :  87\n",
      "Saturday :  76\n",
      "Friday :  62\n",
      "Thursday :  19\n"
     ]
    }
   ],
   "source": [
    "days = x[:, 5]\n",
    "\n",
    "values, counts = np.unique(days, return_counts=1)\n",
    "zip(values, counts)\n",
    "\n",
    "print('Sunday : ',counts[0])\n",
    "print('Saturday : ',counts[1])\n",
    "print('Friday : ',counts[2])\n",
    "print('Thursday : ',counts[3])"
   ]
  },
  {
   "cell_type": "markdown",
   "id": "2458e263",
   "metadata": {},
   "source": [
    "## 4. how many smokers are there ?"
   ]
  },
  {
   "cell_type": "code",
   "execution_count": 40,
   "id": "31841684",
   "metadata": {},
   "outputs": [
    {
     "name": "stdout",
     "output_type": "stream",
     "text": [
      "Smokers : 93.0\n"
     ]
    }
   ],
   "source": [
    "smoker = np.sum(x[:,4])\n",
    "\n",
    "print('Smokers :', smoker)"
   ]
  },
  {
   "cell_type": "markdown",
   "id": "76b9c232",
   "metadata": {},
   "source": [
    "## 5. What is the avg Tip given by Male and Female"
   ]
  },
  {
   "cell_type": "code",
   "execution_count": 51,
   "id": "82057bca",
   "metadata": {},
   "outputs": [
    {
     "name": "stdout",
     "output_type": "stream",
     "text": [
      "Average tip given by Male:  2.8334482758620685\n",
      "Average tip given by Female :  3.0896178343949043\n"
     ]
    }
   ],
   "source": [
    "Tip = x[:,2]\n",
    "sex = x[:,3]\n",
    "\n",
    "avg_Male_tip = np.mean(Tip[sex==0])\n",
    "avg_Female_tip = np.mean(Tip[sex==1])\n",
    "\n",
    "print('Average tip given by Male: ', avg_Male_tip)\n",
    "print('Average tip given by Female : ', avg_Female_tip)"
   ]
  },
  {
   "cell_type": "markdown",
   "id": "c219aab1",
   "metadata": {},
   "source": [
    "## 6. How much Amount have been spent bye Male and Female"
   ]
  },
  {
   "cell_type": "code",
   "execution_count": 43,
   "id": "fe867932",
   "metadata": {},
   "outputs": [
    {
     "name": "stdout",
     "output_type": "stream",
     "text": [
      "Amount spent by Males: 1570.9499999999996\n",
      "Amount spent by Females: 3256.8199999999997\n"
     ]
    }
   ],
   "source": [
    "total_bill = x[:, 1]\n",
    "gender = x[:, 3]\n",
    "\n",
    "total_bill_male = np.sum(total_bill[gender==0])\n",
    "total_bill_female = np.sum(total_bill[gender==1])\n",
    "\n",
    "print(\"Amount spent by Males:\", total_bill_male)\n",
    "print(\"Amount spent by Females:\", total_bill_female)"
   ]
  },
  {
   "cell_type": "markdown",
   "id": "ac2981dd",
   "metadata": {},
   "source": [
    "## 7. What is the min and max tip given"
   ]
  },
  {
   "cell_type": "code",
   "execution_count": 44,
   "id": "ddc837c8",
   "metadata": {},
   "outputs": [
    {
     "name": "stdout",
     "output_type": "stream",
     "text": [
      "Minimum Tip : 1.0\n"
     ]
    }
   ],
   "source": [
    "tips = np.min(x[:,2])\n",
    "\n",
    "print('Minimum Tip :',tips)"
   ]
  },
  {
   "cell_type": "code",
   "execution_count": 45,
   "id": "58662182",
   "metadata": {},
   "outputs": [
    {
     "name": "stdout",
     "output_type": "stream",
     "text": [
      "Maximum Tip : 10.0\n"
     ]
    }
   ],
   "source": [
    "tips = np.max(x[:,2])\n",
    "\n",
    "print('Maximum Tip :',tips)"
   ]
  },
  {
   "cell_type": "markdown",
   "id": "93e503d4",
   "metadata": {},
   "source": [
    "## 8.How many Male and Females are going for Lunch and Dinner"
   ]
  },
  {
   "cell_type": "markdown",
   "id": "277b82bc",
   "metadata": {},
   "source": [
    "### Male and Females are going for Lunch:"
   ]
  },
  {
   "cell_type": "code",
   "execution_count": 48,
   "id": "b54bf923",
   "metadata": {},
   "outputs": [
    {
     "name": "stdout",
     "output_type": "stream",
     "text": [
      "Number of Males going for lunch: 52\n",
      "Number of Females going for lunch: 124\n"
     ]
    }
   ],
   "source": [
    "sex = x[:, 3]\n",
    "time = x[:, 6]\n",
    "\n",
    "male_lunch_count = np.sum((sex==0) & (time==0))\n",
    "female_lunch_count = np.sum((sex==1) & (time==0))\n",
    "\n",
    "print(\"Number of Males going for lunch:\", male_lunch_count)\n",
    "print(\"Number of Females going for lunch:\", female_lunch_count)"
   ]
  },
  {
   "cell_type": "markdown",
   "id": "c7c10290",
   "metadata": {},
   "source": [
    "### Male and Females are going for Dinner:"
   ]
  },
  {
   "cell_type": "code",
   "execution_count": 47,
   "id": "dbbb6f16",
   "metadata": {},
   "outputs": [
    {
     "name": "stdout",
     "output_type": "stream",
     "text": [
      "Number of Males going for dinner: 35\n",
      "Number of Females going for dinner: 33\n"
     ]
    }
   ],
   "source": [
    "sex = x[:, 3]\n",
    "time = x[:, 6]\n",
    "\n",
    "male_dinner_count = np.sum((sex==0) & (time==1))\n",
    "female_dinner_count = np.sum((sex==1) & (time==1))\n",
    "\n",
    "print(\"Number of Males going for dinner:\", male_dinner_count)\n",
    "print(\"Number of Females going for dinner:\", female_dinner_count)"
   ]
  },
  {
   "cell_type": "markdown",
   "id": "f6054f15",
   "metadata": {},
   "source": [
    "## 9. Find out the average size"
   ]
  },
  {
   "cell_type": "code",
   "execution_count": 49,
   "id": "29f1ee5f",
   "metadata": {},
   "outputs": [
    {
     "name": "stdout",
     "output_type": "stream",
     "text": [
      "Average Size:  2.569672131147541\n"
     ]
    }
   ],
   "source": [
    "average_size = np.mean(x[:,7])\n",
    "\n",
    "print('Average Size: ', average_size)"
   ]
  },
  {
   "cell_type": "markdown",
   "id": "a49a78e9",
   "metadata": {},
   "source": [
    "## 10. How many Female smokers are there and Male smokers are there"
   ]
  },
  {
   "cell_type": "code",
   "execution_count": 50,
   "id": "55aeeae1",
   "metadata": {},
   "outputs": [
    {
     "name": "stdout",
     "output_type": "stream",
     "text": [
      "Male Smokers: 33\n",
      "Female Smokers:  60\n"
     ]
    }
   ],
   "source": [
    "sex = (x[:,3])\n",
    "smoker = (x[:,4])\n",
    "\n",
    "male_smokers = np.sum((sex==0) & (smoker==1))\n",
    "female_smokers = np.sum((sex==1) & (smoker==1))\n",
    "\n",
    "print('Male Smokers:', male_smokers)\n",
    "print('Female Smokers: ', female_smokers)"
   ]
  },
  {
   "cell_type": "code",
   "execution_count": null,
   "id": "00886d13",
   "metadata": {},
   "outputs": [],
   "source": []
  }
 ],
 "metadata": {
  "kernelspec": {
   "display_name": "Python 3 (ipykernel)",
   "language": "python",
   "name": "python3"
  },
  "language_info": {
   "codemirror_mode": {
    "name": "ipython",
    "version": 3
   },
   "file_extension": ".py",
   "mimetype": "text/x-python",
   "name": "python",
   "nbconvert_exporter": "python",
   "pygments_lexer": "ipython3",
   "version": "3.11.5"
  }
 },
 "nbformat": 4,
 "nbformat_minor": 5
}
